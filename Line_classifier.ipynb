{
 "cells": [
  {
   "cell_type": "markdown",
   "metadata": {},
   "source": [
    "### Caffe Lines classification"
   ]
  },
  {
   "cell_type": "markdown",
   "metadata": {},
   "source": [
    "### 1. Setup\n",
    "\n",
    "* First, set up Python, `numpy`, and `matplotlib`."
   ]
  },
  {
   "cell_type": "code",
   "execution_count": 23,
   "metadata": {
    "collapsed": true
   },
   "outputs": [],
   "source": [
    "# set up Python environment: numpy for numerical routines, and matplotlib for plotting\n",
    "import glob\n",
    "from __future__ import print_function\n",
    "import numpy as np\n",
    "import matplotlib.pyplot as plt\n",
    "import redis\n",
    "from PIL import Image\n",
    "from StringIO import StringIO\n",
    "from sklearn import metrics \n",
    "# display plots in this notebook\n",
    "%matplotlib inline\n",
    "\n",
    "# set display defaults\n",
    "plt.rcParams['figure.figsize'] = (10, 10)        # large images\n",
    "plt.rcParams['image.interpolation'] = 'nearest'  # don't interpolate: show square pixels\n",
    "plt.rcParams['image.cmap'] = 'gray'  # use grayscale output rather than a (potentially misleading) color heatmap"
   ]
  },
  {
   "cell_type": "code",
   "execution_count": 3,
   "metadata": {
    "collapsed": true
   },
   "outputs": [],
   "source": [
    "# The caffe module needs to be on the Python path;\n",
    "#  we'll add it here explicitly.\n",
    "#import sys\n",
    "#caffe_root = '/home/oleksandr/Caffe/caffe/'  # this file should be run from {caffe_root}/examples (otherwise change this line)\n",
    "#sys.path.insert(0, caffe_root + 'python')\n",
    "\n",
    "import caffe\n",
    "from caffe.proto import caffe_pb2\n",
    "# If you get \"No module named _caffe\", either you have not built pycaffe or you have the wrong path.|"
   ]
  },
  {
   "cell_type": "markdown",
   "metadata": {},
   "source": [
    "### 2. Load net and set up input preprocessing\n",
    "\n",
    "* Set Caffe to CPU mode and load the net from disk."
   ]
  },
  {
   "cell_type": "code",
   "execution_count": 6,
   "metadata": {
    "collapsed": true
   },
   "outputs": [],
   "source": [
    "caffe.set_mode_gpu()\n",
    "\n",
    "model_def = '/home/oleksandr/Caffe/lines/caffe_models/alexnet_22_09_2016_grey/caffenet_deploy_2.prototxt'\n",
    "model_weights = '/home/oleksandr/Caffe/lines/caffe_models/alexnet_22_09_2016_grey/caffe_model_alexnet_iter_50000.caffemodel'\n",
    "\n",
    "net = caffe.Net(model_def,      # defines the structure of the model\n",
    "                model_weights,  # contains the trained weights\n",
    "                caffe.TEST)     # use test mode (e.g., don't perform dropout)"
   ]
  },
  {
   "cell_type": "code",
   "execution_count": 7,
   "metadata": {
    "collapsed": false
   },
   "outputs": [
    {
     "name": "stdout",
     "output_type": "stream",
     "text": [
      "(3, 227, 227)\n"
     ]
    }
   ],
   "source": [
    "mean_blob = caffe_pb2.BlobProto()\n",
    "with open('/home/oleksandr/Caffe/lines/caffe_models/alexnet_22_09_2016_grey/mean.binaryproto') as f:\n",
    "    mean_blob.ParseFromString(f.read())\n",
    "mean_array = np.asarray(mean_blob.data, dtype=np.float32).reshape(\n",
    "    (mean_blob.channels, mean_blob.height, mean_blob.width))\n",
    "print (mean_array.shape)"
   ]
  },
  {
   "cell_type": "code",
   "execution_count": 9,
   "metadata": {
    "collapsed": true
   },
   "outputs": [],
   "source": [
    "# create transformer for the input called 'data'\n",
    "transformer = caffe.io.Transformer({'data': net.blobs['data'].data.shape})\n",
    "\n",
    "transformer.set_transpose('data', (2,0,1))  # move image channels to outermost dimension\n",
    "transformer.set_mean('data', mean_array)            # subtract the dataset-mean value in each channel\n",
    "transformer.set_raw_scale('data', 255)      # rescale from [0, 1] to [0, 255]\n",
    "transformer.set_channel_swap('data', (2,1,0))  # swap channels from RGB to BGR"
   ]
  },
  {
   "cell_type": "markdown",
   "metadata": {},
   "source": [
    "### 3. GPU classification\n",
    "\n",
    "* Now we're ready to perform classification. Even though we'll only classify one image, we'll set a batch size of 50 to demonstrate batching."
   ]
  },
  {
   "cell_type": "code",
   "execution_count": 11,
   "metadata": {
    "collapsed": true
   },
   "outputs": [],
   "source": [
    "# set the size of the input (we can skip this if we're happy\n",
    "#  with the default; we can also change it later, e.g., for different batch sizes)\n",
    "net.blobs['data'].reshape(1,        # batch size\n",
    "                          3,         # 3-channel (BGR) images\n",
    "                          227, 227)  # image size is 227x227"
   ]
  },
  {
   "cell_type": "code",
   "execution_count": null,
   "metadata": {
    "collapsed": false
   },
   "outputs": [],
   "source": [
    "image_path = '/home/oleksandr/Downloads/color_imgs_19_09/dow_2016_09_09/2016_09_09_queue_photo_out/'\n",
    "images = []\n",
    "\n",
    "for filename in glob.iglob(image_path + '*.jpg'):\n",
    "    #if \"line\" in filename:\n",
    "    images.append(filename)   \n",
    "    \n",
    "labels = [1- int(\"noqueue\" in filename) for filename in images]\n",
    "\n",
    "print ( \"Images length: \", len(images))\n",
    "\n",
    "def classify_images(y_pred, net_labels, images):\n",
    "    for image in images:\n",
    "        image = caffe.io.load_image(image)\n",
    "        transformed_image = transformer.preprocess('data', image)\n",
    "        net.blobs['data'].data[...] = transformed_image\n",
    "        output = net.forward()\n",
    "        output_prob = output['prob'][0]\n",
    "        net_labels.append(output_prob.argmax())\n",
    "        y_pred.append(output_prob[1])\n",
    "        #print (output_prob[1], end= ' ')\n",
    "        print (output_prob.argmax(), end= ' ')\n",
    "\n",
    "y_pred = []\n",
    "net_labels = []\n",
    "\n",
    "classify_images(y_pred, net_labels, images)\n"
   ]
  },
  {
   "cell_type": "markdown",
   "metadata": {},
   "source": [
    "### 3. Statistics"
   ]
  },
  {
   "cell_type": "code",
   "execution_count": 26,
   "metadata": {
    "collapsed": false
   },
   "outputs": [
    {
     "name": "stdout",
     "output_type": "stream",
     "text": [
      "             precision    recall  f1-score   support\n",
      "\n",
      "          0       0.79      0.94      0.86      2460\n",
      "          1       0.68      0.32      0.43       903\n",
      "\n",
      "avg / total       0.76      0.78      0.74      3363\n",
      "\n"
     ]
    }
   ],
   "source": [
    "print(metrics.classification_report(labels, net_labels))"
   ]
  },
  {
   "cell_type": "code",
   "execution_count": 27,
   "metadata": {
    "collapsed": true
   },
   "outputs": [],
   "source": [
    "def predict(y):\n",
    "    threshold=0.2\n",
    "    return np.array(y) > threshold"
   ]
  },
  {
   "cell_type": "code",
   "execution_count": 28,
   "metadata": {
    "collapsed": true
   },
   "outputs": [],
   "source": [
    "def show_result(y,predict):\n",
    "    n_dec=20\n",
    "    # строим децили размером N\n",
    "    b=np.percentile(predict,np.linspace(0,100,n_dec+1))\n",
    "    print (\"Prob  Count  Count Count  Bad     Bad\")\n",
    "    print (\"               Bad  Good  Rate,%  Rate,cum\")\n",
    "    for prob in map(lambda b0,b1: (b0,b1), b[:-1],b[1:]):\n",
    "        print (\"%5.2f\" % (100*prob[0]) , end=',')\n",
    "        range=(predict>=prob[0]) & (predict<prob[1])\n",
    "        print (\"%5i %6i %5i\" % (sum(range), sum(y[range]), sum(range)-sum(y[range])), end=',')\n",
    "        print (\"%6.1f\" % (y[range]*100).mean(), end=',')\n",
    "        print (\"%7.1f\" % (y[predict>=prob[0]]*100).mean())\n",
    "    print (\"Gini = %5.1f%%\" % (100*(1-2*(1- metrics.roc_auc_score(y, predict))))   )"
   ]
  },
  {
   "cell_type": "code",
   "execution_count": 29,
   "metadata": {
    "collapsed": true
   },
   "outputs": [],
   "source": [
    "def print_score(y,prob):\n",
    "    pred = predict(prob)\n",
    "\n",
    "    print (\"acc:%5.3f Gini:%5.1f prec:%5.3f recall:%5.3f f1:%5.3f\" % \\\n",
    "              (metrics.accuracy_score(y, pred),\n",
    "               100*(1-2*(1- metrics.roc_auc_score(y, prob))),\n",
    "               metrics.precision_score(y, pred),\n",
    "               metrics.recall_score(y, pred),\n",
    "               metrics.f1_score(y, pred)),  )   "
   ]
  },
  {
   "cell_type": "code",
   "execution_count": 30,
   "metadata": {
    "collapsed": false
   },
   "outputs": [
    {
     "name": "stdout",
     "output_type": "stream",
     "text": [
      "acc:0.780 Gini: 63.2 prec:0.619 recall:0.473 f1:0.536\n"
     ]
    }
   ],
   "source": [
    "print_score(np.array(labels), np.array(y_pred))"
   ]
  },
  {
   "cell_type": "code",
   "execution_count": 31,
   "metadata": {
    "collapsed": false
   },
   "outputs": [
    {
     "name": "stdout",
     "output_type": "stream",
     "text": [
      "Prob  Count  Count Count  Bad     Bad\n",
      "               Bad  Good  Rate,%  Rate,cum\n",
      " 0.00,  169      0   169,   0.0,   26.9\n",
      " 0.00,  168      5   163,   3.0,   28.3\n",
      " 0.00,  168      6   162,   3.6,   29.7\n",
      " 0.00,  168      9   159,   5.4,   31.2\n",
      " 0.00,  168     10   158,   6.0,   32.8\n",
      " 0.00,  168     12   156,   7.1,   34.6\n",
      " 0.00,  168     16   152,   9.5,   36.6\n",
      " 0.01,  168     19   149,  11.3,   38.7\n",
      " 0.02,  168     32   136,  19.0,   40.9\n",
      " 0.06,  168     32   136,  19.0,   42.9\n",
      " 0.14,  169     41   128,  24.3,   45.3\n",
      " 0.38,  168     34   134,  20.2,   47.7\n",
      " 0.89,  168     58   110,  34.5,   51.1\n",
      " 2.09,  168     59   109,  35.1,   53.4\n",
      " 4.71,  168     70    98,  41.7,   56.5\n",
      "10.50,  168     82    86,  48.8,   59.5\n",
      "21.60,  168     86    82,  51.2,   62.1\n",
      "39.69,  168     97    71,  57.7,   65.7\n",
      "61.83,  168    114    54,  67.9,   69.7\n",
      "81.37,  168    120    48,  71.4,   71.6\n",
      "Gini =  63.2%\n"
     ]
    }
   ],
   "source": [
    "show_result(np.array(labels), np.array(y_pred))"
   ]
  },
  {
   "cell_type": "markdown",
   "metadata": {},
   "source": [
    "### 3. ROC "
   ]
  },
  {
   "cell_type": "code",
   "execution_count": 32,
   "metadata": {
    "collapsed": false
   },
   "outputs": [
    {
     "data": {
      "text/plain": [
       "<matplotlib.legend.Legend at 0x7f87aa12c110>"
      ]
     },
     "execution_count": 32,
     "metadata": {},
     "output_type": "execute_result"
    },
    {
     "data": {
      "image/png": "[encoded data removed]",
      "text/plain": [
       "<matplotlib.figure.Figure at 0x7f87aa12c310>"
      ]
     },
     "metadata": {},
     "output_type": "display_data"
    }
   ],
   "source": [
    "fpr, tpr, thr = metrics.roc_curve(np.array(labels), np.array(y_pred))\n",
    "plt.plot(fpr, tpr,label=\"test\")\n",
    "plt.xlabel(\"false positive rate\")\n",
    "plt.ylabel(\"true positive rate\")\n",
    "plt.legend(loc=4)"
   ]
  },
  {
   "cell_type": "code",
   "execution_count": null,
   "metadata": {
    "collapsed": false
   },
   "outputs": [],
   "source": [
    "def show_img(num):\n",
    "    im_arr = np.asarray(Image.open(images[num]))\n",
    "    plt.imshow(im_arr)\n",
    "    print (images[num])\n",
    "    print (net_labels[num])\n",
    "    \n",
    "show_img(3)"
   ]
  },
  {
   "cell_type": "code",
   "execution_count": null,
   "metadata": {
    "collapsed": true
   },
   "outputs": [],
   "source": []
  }
 ],
 "metadata": {
  "kernelspec": {
   "display_name": "Python [Root]",
   "language": "python",
   "name": "Python [Root]"
  },
  "language_info": {
   "codemirror_mode": {
    "name": "ipython",
    "version": 2
   },
   "file_extension": ".py",
   "mimetype": "text/x-python",
   "name": "python",
   "nbconvert_exporter": "python",
   "pygments_lexer": "ipython2",
   "version": "2.7.12"
  }
 },
 "nbformat": 4,
 "nbformat_minor": 0
}
